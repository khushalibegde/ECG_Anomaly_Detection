{
 "cells": [
  {
   "cell_type": "markdown",
   "metadata": {},
   "source": [
    "### Import required libraies"
   ]
  },
  {
   "cell_type": "code",
   "execution_count": 6,
   "metadata": {
    "id": "CPKekKeEi7up"
   },
   "outputs": [],
   "source": [
    "import os, json\n",
    "from tqdm import tqdm\n",
    "import numpy as np\n",
    "import pandas as pd\n",
    "import joblib\n",
    "import matplotlib.pyplot as plt\n",
    "import seaborn as sns\n",
    "\n",
    "from sklearn.preprocessing import StandardScaler\n",
    "from sklearn.model_selection import train_test_split, StratifiedKFold\n",
    "from sklearn.linear_model import LogisticRegression\n",
    "from sklearn.ensemble import RandomForestClassifier\n",
    "from sklearn.metrics import classification_report, accuracy_score, confusion_matrix\n",
    "from sklearn.utils.class_weight import compute_class_weight\n",
    "\n",
    "import lightgbm as lgb\n",
    "from xgboost import XGBClassifier\n",
    "import xgboost as xgb_module\n",
    "\n",
    "import tensorflow as tf\n",
    "from tensorflow.keras import layers, models, callbacks, optimizers"
   ]
  },
  {
   "cell_type": "markdown",
   "metadata": {},
   "source": [
    "### Config"
   ]
  },
  {
   "cell_type": "code",
   "execution_count": 7,
   "metadata": {
    "id": "GQ_QpuyBi7rT"
   },
   "outputs": [],
   "source": [
    "CSV_PATH = \"mitbih_final_complete_features.csv\"\n",
    "MODEL_DIR = \"saved_models\"\n",
    "os.makedirs(MODEL_DIR, exist_ok=True)\n",
    "\n",
    "RAW_SIGNAL_LEN = 200   # expected columns '0'..'199'\n",
    "RANDOM_STATE = 42\n",
    "TEST_SIZE = 0.15\n",
    "SKFOLD = 5\n",
    "BATCH_SIZE = 128\n",
    "EPOCHS = 40\n",
    "\n",
    "# Ensemble weights (final prob = w_meta*meta_prob + w_hybrid*hybrid_prob)\n",
    "W_META = 0.5\n",
    "W_HYBRID = 0.5\n",
    "\n",
    "# Label mapping\n",
    "NORMAL_SYMBOLS = set(['N','L','R','e','j'])  # mapping these to Normal=0; everything else -> Abnormal=1"
   ]
  },
  {
   "cell_type": "markdown",
   "metadata": {},
   "source": [
    "### Load data"
   ]
  },
  {
   "cell_type": "code",
   "execution_count": 8,
   "metadata": {
    "colab": {
     "base_uri": "https://localhost:8080/"
    },
    "id": "_beWG5iGi7nH",
    "outputId": "a2383e23-d915-45a2-8737-9a5b709f5959"
   },
   "outputs": [
    {
     "name": "stdout",
     "output_type": "stream",
     "text": [
      "Loading CSV: mitbih_final_complete_features.csv\n",
      "Rows: 112551 Columns: 211\n",
      "Using tabular features: ['mean', 'std', 'min', 'max', 'energy', 'skewness', 'kurtosis', 'r_peak_amplitude', 'rr_interval_sec', 'spectral_energy']\n",
      "Binary label distribution (0=Normal, 1=Abnormal): [90589 21962]\n"
     ]
    }
   ],
   "source": [
    "print(\"Loading CSV:\", CSV_PATH)\n",
    "df = pd.read_csv(CSV_PATH)\n",
    "print(\"Rows:\", len(df), \"Columns:\", len(df.columns))\n",
    "\n",
    "# check signal columns\n",
    "signal_cols = [str(i) for i in range(RAW_SIGNAL_LEN)]\n",
    "for c in signal_cols:\n",
    "    if c not in df.columns:\n",
    "        raise RuntimeError(f\"Signal column '{c}' missing. Check RAW_SIGNAL_LEN / CSV content.\")\n",
    "\n",
    "# select tabular features (auto-detect)\n",
    "tabular_candidates = ['mean','std','min','max','energy','skewness','kurtosis', 'r_peak_amplitude','rr_interval_sec','spectral_energy']\n",
    "tabular_cols = [c for c in tabular_candidates if c in df.columns]\n",
    "if len(tabular_cols) == 0:\n",
    "    raise RuntimeError(\"No tabular feature columns found. Adjust `tabular_candidates`.\")\n",
    "print(\"Using tabular features:\", tabular_cols)\n",
    "\n",
    "# build X and y\n",
    "X_signal = df[signal_cols].astype(np.float32).values\n",
    "X_tabular = df[tabular_cols].fillna(0).astype(np.float32).values\n",
    "y_symbols = df['label'].astype(str).values\n",
    "\n",
    "# map to binary: 0 normal, 1 abnormal\n",
    "y_binary = np.array([0 if s in NORMAL_SYMBOLS else 1 for s in y_symbols], dtype=np.int32)\n",
    "print(\"Binary label distribution (0=Normal, 1=Abnormal):\", np.bincount(y_binary))\n",
    "\n",
    "# Save mapping for future\n",
    "mapping_info = {\"normal_symbols\": list(NORMAL_SYMBOLS)}\n",
    "with open(os.path.join(MODEL_DIR, \"label_mapping.json\"), \"w\") as f:\n",
    "    json.dump(mapping_info, f, indent=2)"
   ]
  },
  {
   "cell_type": "markdown",
   "metadata": {},
   "source": [
    "### Train test split"
   ]
  },
  {
   "cell_type": "code",
   "execution_count": 9,
   "metadata": {
    "colab": {
     "base_uri": "https://localhost:8080/"
    },
    "id": "HJgXBfnHjFqo",
    "outputId": "1758351e-8c5b-4084-c68e-70e0326b0ac1"
   },
   "outputs": [
    {
     "name": "stdout",
     "output_type": "stream",
     "text": [
      "Train/Test shapes: (95668, 200) (16883, 200)\n",
      "Saved tabular scaler.\n"
     ]
    }
   ],
   "source": [
    "Xsig_train, Xsig_test, Xtab_train, Xtab_test, y_train, y_test = train_test_split(\n",
    "    X_signal, X_tabular, y_binary, test_size=TEST_SIZE, random_state=RANDOM_STATE, stratify=y_binary\n",
    ")\n",
    "print(\"Train/Test shapes:\", Xsig_train.shape, Xsig_test.shape)\n",
    "\n",
    "# scale tabular features\n",
    "scaler = StandardScaler()\n",
    "Xtab_train_scaled = scaler.fit_transform(Xtab_train)\n",
    "Xtab_test_scaled = scaler.transform(Xtab_test)\n",
    "joblib.dump(scaler, os.path.join(MODEL_DIR, \"scaler_tab.pkl\"))\n",
    "print(\"Saved tabular scaler.\")"
   ]
  },
  {
   "cell_type": "markdown",
   "metadata": {},
   "source": [
    "### Stacking (binary) using StratifiedKFold"
   ]
  },
  {
   "cell_type": "code",
   "execution_count": 10,
   "metadata": {
    "colab": {
     "base_uri": "https://localhost:8080/"
    },
    "id": "BXkYyPQtjFnH",
    "outputId": "20b28ea2-dab9-422a-fbbf-2233229e8505"
   },
   "outputs": [
    {
     "name": "stdout",
     "output_type": "stream",
     "text": [
      "\n",
      "Starting stacking OOF generation...\n",
      "\n",
      "--- Fold 1/5 ---\n",
      "[LightGBM] [Info] Number of positive: 14934, number of negative: 61600\n",
      "[LightGBM] [Info] Auto-choosing col-wise multi-threading, the overhead of testing was 0.006586 seconds.\n",
      "You can set `force_col_wise=true` to remove the overhead.\n",
      "[LightGBM] [Info] Total Bins 2550\n",
      "[LightGBM] [Info] Number of data points in the train set: 76534, number of used features: 10\n",
      "[LightGBM] [Info] [binary:BoostFromScore]: pavg=0.195129 -> initscore=-1.417021\n",
      "[LightGBM] [Info] Start training from score -1.417021\n",
      "Training until validation scores don't improve for 50 rounds\n",
      "[100]\tvalid_0's binary_logloss: 0.130629\n",
      "[200]\tvalid_0's binary_logloss: 0.109143\n",
      "[300]\tvalid_0's binary_logloss: 0.0995814\n",
      "[400]\tvalid_0's binary_logloss: 0.0934535\n",
      "[500]\tvalid_0's binary_logloss: 0.0892417\n",
      "[600]\tvalid_0's binary_logloss: 0.0865338\n",
      "[700]\tvalid_0's binary_logloss: 0.0838198\n",
      "[800]\tvalid_0's binary_logloss: 0.0823523\n",
      "[900]\tvalid_0's binary_logloss: 0.0813086\n",
      "[1000]\tvalid_0's binary_logloss: 0.0802575\n",
      "Did not meet early stopping. Best iteration is:\n",
      "[1000]\tvalid_0's binary_logloss: 0.0802575\n",
      "\n",
      "--- Fold 2/5 ---\n",
      "[LightGBM] [Info] Number of positive: 14934, number of negative: 61600\n",
      "[LightGBM] [Info] Auto-choosing col-wise multi-threading, the overhead of testing was 0.006694 seconds.\n",
      "You can set `force_col_wise=true` to remove the overhead.\n",
      "[LightGBM] [Info] Total Bins 2550\n",
      "[LightGBM] [Info] Number of data points in the train set: 76534, number of used features: 10\n",
      "[LightGBM] [Info] [binary:BoostFromScore]: pavg=0.195129 -> initscore=-1.417021\n",
      "[LightGBM] [Info] Start training from score -1.417021\n",
      "Training until validation scores don't improve for 50 rounds\n",
      "[100]\tvalid_0's binary_logloss: 0.129125\n",
      "[200]\tvalid_0's binary_logloss: 0.108165\n",
      "[300]\tvalid_0's binary_logloss: 0.098673\n",
      "[400]\tvalid_0's binary_logloss: 0.093151\n",
      "[500]\tvalid_0's binary_logloss: 0.0891561\n",
      "[600]\tvalid_0's binary_logloss: 0.086926\n",
      "[700]\tvalid_0's binary_logloss: 0.0851049\n",
      "[800]\tvalid_0's binary_logloss: 0.0836987\n",
      "[900]\tvalid_0's binary_logloss: 0.0828093\n",
      "[1000]\tvalid_0's binary_logloss: 0.0815632\n",
      "Did not meet early stopping. Best iteration is:\n",
      "[998]\tvalid_0's binary_logloss: 0.0815505\n",
      "\n",
      "--- Fold 3/5 ---\n",
      "[LightGBM] [Info] Number of positive: 14934, number of negative: 61600\n",
      "[LightGBM] [Info] Auto-choosing col-wise multi-threading, the overhead of testing was 0.006834 seconds.\n",
      "You can set `force_col_wise=true` to remove the overhead.\n",
      "[LightGBM] [Info] Total Bins 2550\n",
      "[LightGBM] [Info] Number of data points in the train set: 76534, number of used features: 10\n",
      "[LightGBM] [Info] [binary:BoostFromScore]: pavg=0.195129 -> initscore=-1.417021\n",
      "[LightGBM] [Info] Start training from score -1.417021\n",
      "Training until validation scores don't improve for 50 rounds\n",
      "[100]\tvalid_0's binary_logloss: 0.136458\n",
      "[200]\tvalid_0's binary_logloss: 0.117086\n",
      "[300]\tvalid_0's binary_logloss: 0.108388\n",
      "[400]\tvalid_0's binary_logloss: 0.103715\n",
      "[500]\tvalid_0's binary_logloss: 0.100388\n",
      "[600]\tvalid_0's binary_logloss: 0.0977711\n",
      "[700]\tvalid_0's binary_logloss: 0.0956766\n",
      "[800]\tvalid_0's binary_logloss: 0.0943412\n",
      "[900]\tvalid_0's binary_logloss: 0.0929991\n",
      "[1000]\tvalid_0's binary_logloss: 0.0920249\n",
      "Did not meet early stopping. Best iteration is:\n",
      "[1000]\tvalid_0's binary_logloss: 0.0920249\n",
      "\n",
      "--- Fold 4/5 ---\n",
      "[LightGBM] [Info] Number of positive: 14935, number of negative: 61600\n",
      "[LightGBM] [Info] Auto-choosing col-wise multi-threading, the overhead of testing was 0.006979 seconds.\n",
      "You can set `force_col_wise=true` to remove the overhead.\n",
      "[LightGBM] [Info] Total Bins 2550\n",
      "[LightGBM] [Info] Number of data points in the train set: 76535, number of used features: 10\n",
      "[LightGBM] [Info] [binary:BoostFromScore]: pavg=0.195139 -> initscore=-1.416954\n",
      "[LightGBM] [Info] Start training from score -1.416954\n",
      "Training until validation scores don't improve for 50 rounds\n",
      "[100]\tvalid_0's binary_logloss: 0.133424\n",
      "[200]\tvalid_0's binary_logloss: 0.112771\n",
      "[300]\tvalid_0's binary_logloss: 0.10366\n",
      "[400]\tvalid_0's binary_logloss: 0.0986067\n",
      "[500]\tvalid_0's binary_logloss: 0.0946629\n",
      "[600]\tvalid_0's binary_logloss: 0.0921153\n",
      "[700]\tvalid_0's binary_logloss: 0.0894878\n",
      "[800]\tvalid_0's binary_logloss: 0.0878938\n",
      "[900]\tvalid_0's binary_logloss: 0.0868435\n",
      "[1000]\tvalid_0's binary_logloss: 0.0857992\n",
      "Did not meet early stopping. Best iteration is:\n",
      "[1000]\tvalid_0's binary_logloss: 0.0857992\n",
      "\n",
      "--- Fold 5/5 ---\n",
      "[LightGBM] [Info] Number of positive: 14935, number of negative: 61600\n",
      "[LightGBM] [Info] Auto-choosing row-wise multi-threading, the overhead of testing was 0.002306 seconds.\n",
      "You can set `force_row_wise=true` to remove the overhead.\n",
      "And if memory is not enough, you can set `force_col_wise=true`.\n",
      "[LightGBM] [Info] Total Bins 2550\n",
      "[LightGBM] [Info] Number of data points in the train set: 76535, number of used features: 10\n",
      "[LightGBM] [Info] [binary:BoostFromScore]: pavg=0.195139 -> initscore=-1.416954\n",
      "[LightGBM] [Info] Start training from score -1.416954\n",
      "Training until validation scores don't improve for 50 rounds\n",
      "[100]\tvalid_0's binary_logloss: 0.128721\n",
      "[200]\tvalid_0's binary_logloss: 0.108491\n",
      "[300]\tvalid_0's binary_logloss: 0.098489\n",
      "[400]\tvalid_0's binary_logloss: 0.0928239\n",
      "[500]\tvalid_0's binary_logloss: 0.0892661\n",
      "[600]\tvalid_0's binary_logloss: 0.0862099\n",
      "[700]\tvalid_0's binary_logloss: 0.0838317\n",
      "[800]\tvalid_0's binary_logloss: 0.082154\n",
      "[900]\tvalid_0's binary_logloss: 0.0811843\n",
      "[1000]\tvalid_0's binary_logloss: 0.0801915\n",
      "Did not meet early stopping. Best iteration is:\n",
      "[1000]\tvalid_0's binary_logloss: 0.0801915\n",
      "\n",
      "Out Of Fold prediction generation complete. Training meta-learner (Logistic Regression)...\n",
      "\n",
      "Meta (stacked) Test Metrics:\n",
      "              precision    recall  f1-score   support\n",
      "\n",
      "      Normal       0.97      0.99      0.98     13589\n",
      "    Abnormal       0.95      0.89      0.92      3294\n",
      "\n",
      "    accuracy                           0.97     16883\n",
      "   macro avg       0.96      0.94      0.95     16883\n",
      "weighted avg       0.97      0.97      0.97     16883\n",
      "\n",
      "Meta Accuracy: 0.9681928567197773\n"
     ]
    }
   ],
   "source": [
    "skf = StratifiedKFold(n_splits=SKFOLD, shuffle=True, random_state=RANDOM_STATE)\n",
    "\n",
    "# Base learner params\n",
    "rf_params = {'n_estimators': 300, 'max_depth': 15, 'random_state': RANDOM_STATE, 'n_jobs': -1}\n",
    "\n",
    "# XGBoost params\n",
    "xgb_params = {\n",
    "    'n_estimators': 400,\n",
    "    'learning_rate': 0.05,\n",
    "    'max_depth': 6,\n",
    "    'subsample': 0.8,\n",
    "    'colsample_bytree': 0.8,\n",
    "    'objective': 'binary:logistic',\n",
    "    'random_state': RANDOM_STATE,\n",
    "}\n",
    "\n",
    "lgb_params = {'objective': 'binary', 'metric': 'binary_logloss',\n",
    "              'learning_rate': 0.05, 'num_leaves': 31, 'feature_fraction': 0.8,\n",
    "              'bagging_fraction': 0.8, 'bagging_freq': 5, 'seed': RANDOM_STATE}\n",
    "\n",
    "n_train = Xtab_train_scaled.shape[0]\n",
    "n_test = Xtab_test_scaled.shape[0]\n",
    "\n",
    "oof_train = np.zeros((n_train, 3))\n",
    "oof_test = np.zeros((n_test, 3))\n",
    "\n",
    "print(\"\\nStarting stacking OOF generation...\")\n",
    "for fold, (tr_idx, val_idx) in enumerate(skf.split(Xtab_train_scaled, y_train)):\n",
    "    print(f\"\\n--- Fold {fold+1}/{SKFOLD} ---\")\n",
    "    X_tr, X_val = Xtab_train_scaled[tr_idx], Xtab_train_scaled[val_idx]\n",
    "    y_tr, y_val = y_train[tr_idx], y_train[val_idx]\n",
    "\n",
    "    # Random Forest\n",
    "    rf = RandomForestClassifier(**rf_params)\n",
    "    rf.fit(X_tr, y_tr)\n",
    "    oof_train[val_idx, 0] = rf.predict_proba(X_val)[:,1]\n",
    "    oof_test[:, 0] += rf.predict_proba(Xtab_test_scaled)[:,1] / SKFOLD\n",
    "\n",
    "    # XGBoost\n",
    "    xgb_clf = XGBClassifier(**xgb_params)\n",
    "    try:\n",
    "        xgb_clf.fit(X_tr, y_tr, eval_set=[(X_val, y_val)], early_stopping_rounds=50, verbose=False)\n",
    "    except TypeError:\n",
    "        try:\n",
    "            xgb_clf.fit(X_tr, y_tr, eval_set=[(X_val, y_val)], callbacks=[xgb_module.callback.EarlyStopping(rounds=50)], verbose=False)\n",
    "        except Exception:\n",
    "            xgb_clf.fit(X_tr, y_tr, verbose=False)\n",
    "    oof_train[val_idx, 1] = xgb_clf.predict_proba(X_val)[:,1]\n",
    "    oof_test[:, 1] += xgb_clf.predict_proba(Xtab_test_scaled)[:,1] / SKFOLD\n",
    "\n",
    "    # LightGBM\n",
    "    lgb_tr = lgb.Dataset(X_tr, label=y_tr)\n",
    "    lgb_val = lgb.Dataset(X_val, label=y_val, reference=lgb_tr)\n",
    "    lgb_model = lgb.train(params=lgb_params, train_set=lgb_tr, valid_sets=[lgb_val],\n",
    "                          num_boost_round=1000,\n",
    "                          callbacks=[lgb.early_stopping(stopping_rounds=50),\n",
    "                                     lgb.log_evaluation(period=100)])\n",
    "    oof_train[val_idx, 2] = lgb_model.predict(X_val)\n",
    "    oof_test[:, 2] += lgb_model.predict(Xtab_test_scaled) / SKFOLD\n",
    "\n",
    "    del rf, xgb_clf, lgb_model\n",
    "\n",
    "print(\"\\nOut Of Fold prediction generation complete. Training meta-learner (Logistic Regression)...\")\n",
    "meta_lr = LogisticRegression(max_iter=2000)\n",
    "meta_lr.fit(oof_train, y_train)\n",
    "\n",
    "meta_test_feats = np.zeros((n_test, 3))\n",
    "meta_test_feats[:,0] = oof_test[:,0]\n",
    "meta_test_feats[:,1] = oof_test[:,1]\n",
    "meta_test_feats[:,2] = oof_test[:,2]\n",
    "\n",
    "meta_test_probs = meta_lr.predict_proba(meta_test_feats)[:,1]\n",
    "meta_test_preds = (meta_test_probs >= 0.5).astype(int)\n",
    "print(\"\\nMeta (stacked) Test Metrics:\")\n",
    "print(classification_report(y_test, meta_test_preds, target_names=['Normal','Abnormal']))\n",
    "print(\"Meta Accuracy:\", accuracy_score(y_test, meta_test_preds))"
   ]
  },
  {
   "cell_type": "markdown",
   "metadata": {},
   "source": [
    "### Train full base models for saving"
   ]
  },
  {
   "cell_type": "code",
   "execution_count": 11,
   "metadata": {
    "colab": {
     "base_uri": "https://localhost:8080/"
    },
    "id": "sBYEHTo5jFkd",
    "outputId": "80cbd6f5-c76a-4702-ec05-1be86d80d445"
   },
   "outputs": [
    {
     "name": "stdout",
     "output_type": "stream",
     "text": [
      "[LightGBM] [Info] Number of positive: 18668, number of negative: 77000\n",
      "[LightGBM] [Info] Auto-choosing col-wise multi-threading, the overhead of testing was 0.008295 seconds.\n",
      "You can set `force_col_wise=true` to remove the overhead.\n",
      "[LightGBM] [Info] Total Bins 2550\n",
      "[LightGBM] [Info] Number of data points in the train set: 95668, number of used features: 10\n",
      "[LightGBM] [Info] [binary:BoostFromScore]: pavg=0.195133 -> initscore=-1.416995\n",
      "[LightGBM] [Info] Start training from score -1.416995\n",
      "Training until validation scores don't improve for 50 rounds\n",
      "[100]\tvalid_0's binary_logloss: 0.135779\n",
      "[200]\tvalid_0's binary_logloss: 0.114923\n",
      "[300]\tvalid_0's binary_logloss: 0.10616\n",
      "[400]\tvalid_0's binary_logloss: 0.0997265\n",
      "[500]\tvalid_0's binary_logloss: 0.095816\n",
      "[600]\tvalid_0's binary_logloss: 0.0931384\n",
      "[700]\tvalid_0's binary_logloss: 0.0910749\n",
      "[800]\tvalid_0's binary_logloss: 0.0889958\n",
      "[900]\tvalid_0's binary_logloss: 0.0878413\n",
      "[1000]\tvalid_0's binary_logloss: 0.0867422\n",
      "Did not meet early stopping. Best iteration is:\n",
      "[996]\tvalid_0's binary_logloss: 0.0867346\n"
     ]
    },
    {
     "data": {
      "text/plain": [
       "['saved_models/meta_lr.pkl']"
      ]
     },
     "execution_count": 11,
     "metadata": {},
     "output_type": "execute_result"
    }
   ],
   "source": [
    "rf_full = RandomForestClassifier(**rf_params)\n",
    "rf_full.fit(Xtab_train_scaled, y_train)\n",
    "joblib.dump(rf_full, os.path.join(MODEL_DIR, \"rf_full.pkl\"))\n",
    "\n",
    "xgb_full = XGBClassifier(**xgb_params)\n",
    "try:\n",
    "    xgb_full.fit(Xtab_train_scaled, y_train, eval_set=[(Xtab_test_scaled, y_test)], early_stopping_rounds=50, verbose=False)\n",
    "except TypeError:\n",
    "    try:\n",
    "        xgb_full.fit(Xtab_train_scaled, y_train, eval_set=[(Xtab_test_scaled, y_test)], callbacks=[xgb_module.callback.EarlyStopping(rounds=50)], verbose=False)\n",
    "    except Exception:\n",
    "        xgb_full.fit(Xtab_train_scaled, y_train, verbose=False)\n",
    "joblib.dump(xgb_full, os.path.join(MODEL_DIR, \"xgb_full.pkl\"))\n",
    "\n",
    "lgb_full = lgb.train(params=lgb_params, train_set=lgb.Dataset(Xtab_train_scaled, label=y_train),\n",
    "                     valid_sets=[lgb.Dataset(Xtab_test_scaled, label=y_test)],\n",
    "                     num_boost_round=1000,\n",
    "                     callbacks=[lgb.early_stopping(stopping_rounds=50), lgb.log_evaluation(period=100)])\n",
    "lgb_full.save_model(os.path.join(MODEL_DIR, \"lgb_full.txt\"))\n",
    "\n",
    "joblib.dump(meta_lr, os.path.join(MODEL_DIR, \"meta_lr.pkl\"))"
   ]
  },
  {
   "cell_type": "markdown",
   "metadata": {},
   "source": [
    "### Hybrid CNN+biLSTM model"
   ]
  },
  {
   "cell_type": "code",
   "execution_count": 12,
   "metadata": {
    "colab": {
     "base_uri": "https://localhost:8080/"
    },
    "id": "fffez6zyjFhI",
    "outputId": "563607c1-2116-4db7-b4c1-f804721eecec"
   },
   "outputs": [
    {
     "name": "stdout",
     "output_type": "stream",
     "text": [
      "Epoch 1/40\n"
     ]
    },
    {
     "name": "stderr",
     "output_type": "stream",
     "text": [
      "WARNING:absl:You are saving your model as an HDF5 file via `model.save()` or `keras.saving.save_model(model)`. This file format is considered legacy. We recommend using instead the native Keras format, e.g. `model.save('my_model.keras')` or `keras.saving.save_model(model, 'my_model.keras')`. \n"
     ]
    },
    {
     "name": "stdout",
     "output_type": "stream",
     "text": [
      "658/658 - 20s - 31ms/step - accuracy: 0.9296 - loss: 0.1891 - val_accuracy: 0.9586 - val_loss: 0.1090 - learning_rate: 1.0000e-03\n",
      "Epoch 2/40\n"
     ]
    },
    {
     "name": "stderr",
     "output_type": "stream",
     "text": [
      "WARNING:absl:You are saving your model as an HDF5 file via `model.save()` or `keras.saving.save_model(model)`. This file format is considered legacy. We recommend using instead the native Keras format, e.g. `model.save('my_model.keras')` or `keras.saving.save_model(model, 'my_model.keras')`. \n"
     ]
    },
    {
     "name": "stdout",
     "output_type": "stream",
     "text": [
      "658/658 - 10s - 16ms/step - accuracy: 0.9614 - loss: 0.1101 - val_accuracy: 0.9684 - val_loss: 0.0798 - learning_rate: 1.0000e-03\n",
      "Epoch 3/40\n"
     ]
    },
    {
     "name": "stderr",
     "output_type": "stream",
     "text": [
      "WARNING:absl:You are saving your model as an HDF5 file via `model.save()` or `keras.saving.save_model(model)`. This file format is considered legacy. We recommend using instead the native Keras format, e.g. `model.save('my_model.keras')` or `keras.saving.save_model(model, 'my_model.keras')`. \n"
     ]
    },
    {
     "name": "stdout",
     "output_type": "stream",
     "text": [
      "658/658 - 10s - 15ms/step - accuracy: 0.9683 - loss: 0.0897 - val_accuracy: 0.9748 - val_loss: 0.0726 - learning_rate: 1.0000e-03\n",
      "Epoch 4/40\n"
     ]
    },
    {
     "name": "stderr",
     "output_type": "stream",
     "text": [
      "WARNING:absl:You are saving your model as an HDF5 file via `model.save()` or `keras.saving.save_model(model)`. This file format is considered legacy. We recommend using instead the native Keras format, e.g. `model.save('my_model.keras')` or `keras.saving.save_model(model, 'my_model.keras')`. \n"
     ]
    },
    {
     "name": "stdout",
     "output_type": "stream",
     "text": [
      "658/658 - 10s - 15ms/step - accuracy: 0.9734 - loss: 0.0777 - val_accuracy: 0.9781 - val_loss: 0.0622 - learning_rate: 1.0000e-03\n",
      "Epoch 5/40\n",
      "658/658 - 10s - 16ms/step - accuracy: 0.9754 - loss: 0.0703 - val_accuracy: 0.9792 - val_loss: 0.0645 - learning_rate: 1.0000e-03\n",
      "Epoch 6/40\n"
     ]
    },
    {
     "name": "stderr",
     "output_type": "stream",
     "text": [
      "WARNING:absl:You are saving your model as an HDF5 file via `model.save()` or `keras.saving.save_model(model)`. This file format is considered legacy. We recommend using instead the native Keras format, e.g. `model.save('my_model.keras')` or `keras.saving.save_model(model, 'my_model.keras')`. \n"
     ]
    },
    {
     "name": "stdout",
     "output_type": "stream",
     "text": [
      "658/658 - 10s - 16ms/step - accuracy: 0.9786 - loss: 0.0614 - val_accuracy: 0.9835 - val_loss: 0.0517 - learning_rate: 1.0000e-03\n",
      "Epoch 7/40\n",
      "658/658 - 11s - 16ms/step - accuracy: 0.9799 - loss: 0.0568 - val_accuracy: 0.9733 - val_loss: 0.0712 - learning_rate: 1.0000e-03\n",
      "Epoch 8/40\n",
      "658/658 - 11s - 16ms/step - accuracy: 0.9816 - loss: 0.0521 - val_accuracy: 0.9786 - val_loss: 0.0595 - learning_rate: 1.0000e-03\n",
      "Epoch 9/40\n",
      "658/658 - 11s - 16ms/step - accuracy: 0.9823 - loss: 0.0508 - val_accuracy: 0.9737 - val_loss: 0.0717 - learning_rate: 1.0000e-03\n",
      "Epoch 10/40\n"
     ]
    },
    {
     "name": "stderr",
     "output_type": "stream",
     "text": [
      "WARNING:absl:You are saving your model as an HDF5 file via `model.save()` or `keras.saving.save_model(model)`. This file format is considered legacy. We recommend using instead the native Keras format, e.g. `model.save('my_model.keras')` or `keras.saving.save_model(model, 'my_model.keras')`. \n"
     ]
    },
    {
     "name": "stdout",
     "output_type": "stream",
     "text": [
      "658/658 - 10s - 15ms/step - accuracy: 0.9826 - loss: 0.0486 - val_accuracy: 0.9827 - val_loss: 0.0510 - learning_rate: 1.0000e-03\n",
      "Epoch 11/40\n",
      "658/658 - 10s - 16ms/step - accuracy: 0.9849 - loss: 0.0425 - val_accuracy: 0.9814 - val_loss: 0.0574 - learning_rate: 1.0000e-03\n",
      "Epoch 12/40\n",
      "658/658 - 10s - 16ms/step - accuracy: 0.9847 - loss: 0.0431 - val_accuracy: 0.9791 - val_loss: 0.0550 - learning_rate: 1.0000e-03\n",
      "Epoch 13/40\n"
     ]
    },
    {
     "name": "stderr",
     "output_type": "stream",
     "text": [
      "WARNING:absl:You are saving your model as an HDF5 file via `model.save()` or `keras.saving.save_model(model)`. This file format is considered legacy. We recommend using instead the native Keras format, e.g. `model.save('my_model.keras')` or `keras.saving.save_model(model, 'my_model.keras')`. \n"
     ]
    },
    {
     "name": "stdout",
     "output_type": "stream",
     "text": [
      "658/658 - 10s - 16ms/step - accuracy: 0.9851 - loss: 0.0408 - val_accuracy: 0.9848 - val_loss: 0.0469 - learning_rate: 1.0000e-03\n",
      "Epoch 14/40\n",
      "658/658 - 10s - 16ms/step - accuracy: 0.9863 - loss: 0.0393 - val_accuracy: 0.9825 - val_loss: 0.0555 - learning_rate: 1.0000e-03\n",
      "Epoch 15/40\n",
      "658/658 - 10s - 16ms/step - accuracy: 0.9868 - loss: 0.0365 - val_accuracy: 0.9835 - val_loss: 0.0539 - learning_rate: 1.0000e-03\n",
      "Epoch 16/40\n",
      "658/658 - 10s - 14ms/step - accuracy: 0.9876 - loss: 0.0345 - val_accuracy: 0.9824 - val_loss: 0.0565 - learning_rate: 1.0000e-03\n",
      "Epoch 17/40\n",
      "658/658 - 10s - 16ms/step - accuracy: 0.9887 - loss: 0.0323 - val_accuracy: 0.9822 - val_loss: 0.0570 - learning_rate: 1.0000e-03\n",
      "Epoch 18/40\n",
      "658/658 - 10s - 16ms/step - accuracy: 0.9885 - loss: 0.0301 - val_accuracy: 0.9834 - val_loss: 0.0586 - learning_rate: 1.0000e-03\n",
      "Epoch 19/40\n",
      "\n",
      "Epoch 19: ReduceLROnPlateau reducing learning rate to 0.0005000000237487257.\n",
      "658/658 - 10s - 16ms/step - accuracy: 0.9891 - loss: 0.0295 - val_accuracy: 0.9838 - val_loss: 0.0569 - learning_rate: 1.0000e-03\n",
      "Epoch 20/40\n",
      "658/658 - 11s - 16ms/step - accuracy: 0.9916 - loss: 0.0225 - val_accuracy: 0.9859 - val_loss: 0.0537 - learning_rate: 5.0000e-04\n",
      "Epoch 21/40\n",
      "658/658 - 12s - 18ms/step - accuracy: 0.9931 - loss: 0.0193 - val_accuracy: 0.9869 - val_loss: 0.0515 - learning_rate: 5.0000e-04\n",
      "Epoch 22/40\n",
      "658/658 - 19s - 29ms/step - accuracy: 0.9931 - loss: 0.0190 - val_accuracy: 0.9850 - val_loss: 0.0539 - learning_rate: 5.0000e-04\n",
      "Epoch 23/40\n",
      "658/658 - 11s - 16ms/step - accuracy: 0.9935 - loss: 0.0177 - val_accuracy: 0.9853 - val_loss: 0.0577 - learning_rate: 5.0000e-04\n",
      "Epoch 24/40\n",
      "658/658 - 11s - 16ms/step - accuracy: 0.9950 - loss: 0.0142 - val_accuracy: 0.9855 - val_loss: 0.0594 - learning_rate: 5.0000e-04\n",
      "Epoch 25/40\n",
      "\n",
      "Epoch 25: ReduceLROnPlateau reducing learning rate to 0.0002500000118743628.\n",
      "658/658 - 11s - 16ms/step - accuracy: 0.9939 - loss: 0.0162 - val_accuracy: 0.9856 - val_loss: 0.0588 - learning_rate: 5.0000e-04\n",
      "Epoch 25: early stopping\n",
      "Restoring model weights from the end of the best epoch: 13.\n"
     ]
    },
    {
     "name": "stderr",
     "output_type": "stream",
     "text": [
      "WARNING:absl:You are saving your model as an HDF5 file via `model.save()` or `keras.saving.save_model(model)`. This file format is considered legacy. We recommend using instead the native Keras format, e.g. `model.save('my_model.keras')` or `keras.saving.save_model(model, 'my_model.keras')`. \n",
      "WARNING:absl:Compiled the loaded model, but the compiled metrics have yet to be built. `model.compile_metrics` will be empty until you train or evaluate the model.\n"
     ]
    },
    {
     "name": "stdout",
     "output_type": "stream",
     "text": [
      "\u001b[1m66/66\u001b[0m \u001b[32m━━━━━━━━━━━━━━━━━━━━\u001b[0m\u001b[37m\u001b[0m \u001b[1m1s\u001b[0m 11ms/step\n"
     ]
    }
   ],
   "source": [
    "def build_hybrid_model(signal_len=RAW_SIGNAL_LEN, tab_dim=Xtab_train_scaled.shape[1]):\n",
    "    inp_signal = layers.Input(shape=(signal_len,1), name=\"signal_input\")\n",
    "    x = layers.Conv1D(32, kernel_size=7, padding='same', activation='relu')(inp_signal)\n",
    "    x = layers.BatchNormalization()(x)\n",
    "    x = layers.MaxPool1D(2)(x)\n",
    "    x = layers.Conv1D(64, kernel_size=5, padding='same', activation='relu')(x)\n",
    "    x = layers.BatchNormalization()(x)\n",
    "    x = layers.MaxPool1D(2)(x)\n",
    "    x = layers.Bidirectional(layers.LSTM(64, return_sequences=False))(x)\n",
    "    x = layers.Dense(128, activation='relu')(x)\n",
    "    x = layers.Dropout(0.3)(x)\n",
    "\n",
    "    inp_tab = layers.Input(shape=(tab_dim,), name=\"tab_input\")\n",
    "    t = layers.Dense(64, activation='relu')(inp_tab)\n",
    "    t = layers.BatchNormalization()(t)\n",
    "    t = layers.Dropout(0.2)(t)\n",
    "    t = layers.Dense(32, activation='relu')(t)\n",
    "\n",
    "    m = layers.Concatenate()([x, t])\n",
    "    m = layers.Dense(128, activation='relu')(m)\n",
    "    m = layers.Dropout(0.3)(m)\n",
    "    out = layers.Dense(1, activation='sigmoid')(m)\n",
    "\n",
    "    return models.Model(inputs=[inp_signal, inp_tab], outputs=out)\n",
    "\n",
    "hybrid = build_hybrid_model()\n",
    "hybrid.compile(optimizer=optimizers.Adam(learning_rate=1e-3),\n",
    "               loss='binary_crossentropy', metrics=['accuracy'])\n",
    "\n",
    "Xsig_train_cnn = Xsig_train.reshape((-1, RAW_SIGNAL_LEN, 1))\n",
    "Xsig_test_cnn = Xsig_test.reshape((-1, RAW_SIGNAL_LEN, 1))\n",
    "\n",
    "cw_vals = compute_class_weight(class_weight='balanced', classes=np.unique(y_train), y=y_train)\n",
    "class_weights = {i: cw_vals[i] for i in range(len(cw_vals))}\n",
    "\n",
    "hybrid_ckpt = os.path.join(MODEL_DIR, \"hybrid_best_binary.h5\")\n",
    "cb_list = [\n",
    "    callbacks.ModelCheckpoint(hybrid_ckpt, monitor='val_loss', save_best_only=True),\n",
    "    callbacks.ReduceLROnPlateau(monitor='val_loss', factor=0.5, patience=6, verbose=1),\n",
    "    callbacks.EarlyStopping(monitor='val_loss', patience=12, restore_best_weights=True, verbose=1)\n",
    "]\n",
    "\n",
    "Xsig_tr_fit, Xsig_val_fit, Xtab_tr_fit, Xtab_val_fit, y_tr_fit, y_val_fit = train_test_split(\n",
    "    Xsig_train_cnn, Xtab_train_scaled, y_train, test_size=0.12, random_state=RANDOM_STATE, stratify=y_train\n",
    ")\n",
    "\n",
    "history = hybrid.fit(\n",
    "    {\"signal_input\": Xsig_tr_fit, \"tab_input\": Xtab_tr_fit},\n",
    "    y_tr_fit,\n",
    "    validation_data=({\"signal_input\": Xsig_val_fit, \"tab_input\": Xtab_val_fit}, y_val_fit),\n",
    "    batch_size=BATCH_SIZE,\n",
    "    epochs=EPOCHS,\n",
    "    class_weight=class_weights,\n",
    "    callbacks=cb_list,\n",
    "    verbose=2\n",
    ")\n",
    "\n",
    "hybrid.save(os.path.join(MODEL_DIR, \"hybrid_final_binary.h5\"))\n",
    "\n",
    "hybrid_best = models.load_model(hybrid_ckpt)\n",
    "hybrid_probs = hybrid_best.predict({\"signal_input\": Xsig_test_cnn, \"tab_input\": Xtab_test_scaled}, batch_size=256).ravel()\n",
    "hybrid_preds = (hybrid_probs >= 0.5).astype(int)"
   ]
  },
  {
   "cell_type": "markdown",
   "metadata": {},
   "source": [
    "### Final Ensemble"
   ]
  },
  {
   "cell_type": "code",
   "execution_count": 13,
   "metadata": {
    "colab": {
     "base_uri": "https://localhost:8080/",
     "height": 542
    },
    "id": "ZHRPoo6-jFdg",
    "outputId": "7a388502-a8f4-4297-b89f-ee4c7c2da363"
   },
   "outputs": [
    {
     "name": "stdout",
     "output_type": "stream",
     "text": [
      "\n",
      "All done. Saved models & artifacts in: saved_models\n"
     ]
    },
    {
     "data": {
      "image/png": "[encoded data removed]",
      "text/plain": [
       "<Figure size 600x500 with 2 Axes>"
      ]
     },
     "metadata": {},
     "output_type": "display_data"
    }
   ],
   "source": [
    "meta_test_feats[:,0] = rf_full.predict_proba(Xtab_test_scaled)[:,1]\n",
    "meta_test_feats[:,1] = xgb_full.predict_proba(Xtab_test_scaled)[:,1]\n",
    "meta_test_feats[:,2] = lgb_full.predict(Xtab_test_scaled)\n",
    "\n",
    "meta_probs = meta_lr.predict_proba(meta_test_feats)[:,1]\n",
    "final_probs = W_META * meta_probs + W_HYBRID * hybrid_probs\n",
    "final_preds = (final_probs >= 0.5).astype(int)\n",
    "\n",
    "cm = confusion_matrix(y_test, final_preds)\n",
    "plt.figure(figsize=(6,5))\n",
    "sns.heatmap(cm, annot=True, fmt='d', cmap='Blues', xticklabels=['Normal','Abnormal'], yticklabels=['Normal','Abnormal'])\n",
    "plt.xlabel(\"Predicted\")\n",
    "plt.ylabel(\"True\")\n",
    "plt.title(\"Final Binary Ensemble Confusion Matrix\")\n",
    "plt.tight_layout()\n",
    "plt.savefig(os.path.join(MODEL_DIR, \"final_confusion_matrix_binary.png\"))\n",
    "\n",
    "artifacts = {\n",
    "    \"scaler_tab\": os.path.join(MODEL_DIR, \"scaler_tab.pkl\"),\n",
    "    \"rf_full\": os.path.join(MODEL_DIR, \"rf_full.pkl\"),\n",
    "    \"xgb_full\": os.path.join(MODEL_DIR, \"xgb_full.pkl\"),\n",
    "    \"lgb_full\": os.path.join(MODEL_DIR, \"lgb_full.txt\"),\n",
    "    \"meta_lr\": os.path.join(MODEL_DIR, \"meta_lr.pkl\"),\n",
    "    \"hybrid_best\": hybrid_ckpt,\n",
    "    \"hybrid_final\": os.path.join(MODEL_DIR, \"hybrid_final_binary.h5\"),\n",
    "    \"label_mapping\": os.path.join(MODEL_DIR, \"label_mapping.json\")\n",
    "}\n",
    "with open(os.path.join(MODEL_DIR, \"artifacts.json\"), \"w\") as f:\n",
    "    json.dump(artifacts, f, indent=2)\n",
    "\n",
    "print(\"\\nAll done. Saved models & artifacts in:\", MODEL_DIR)"
   ]
  },
  {
   "cell_type": "code",
   "execution_count": null,
   "metadata": {
    "id": "-RgegoCtjFYS"
   },
   "outputs": [],
   "source": []
  }
 ],
 "metadata": {
  "accelerator": "GPU",
  "colab": {
   "gpuType": "T4",
   "provenance": []
  },
  "kernelspec": {
   "display_name": "Python 3 (ipykernel)",
   "language": "python",
   "name": "python3"
  },
  "language_info": {
   "codemirror_mode": {
    "name": "ipython",
    "version": 3
   },
   "file_extension": ".py",
   "mimetype": "text/x-python",
   "name": "python",
   "nbconvert_exporter": "python",
   "pygments_lexer": "ipython3",
   "version": "3.12.7"
  }
 },
 "nbformat": 4,
 "nbformat_minor": 4
}
